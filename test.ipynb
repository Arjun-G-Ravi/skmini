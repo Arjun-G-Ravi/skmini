{
 "cells": [
  {
   "cell_type": "code",
   "execution_count": null,
   "metadata": {},
   "outputs": [],
   "source": [
    "import os\n",
    "from pathlib import Path\n",
    "import requests\n",
    "import zipfile\n",
    "import tarfile\n",
    "import shutil\n",
    "from warnings import filterwarnings\n",
    "filterwarnings('ignore')\n",
    "def download_to_cache(url, filename):\n",
    "    def _get_custom_cache_dir():\n",
    "        custom_cache_dir = Path.home() / \".cache\" / \"skmini\"\n",
    "        os.makedirs(custom_cache_dir, exist_ok=True)\n",
    "        return custom_cache_dir\n",
    "\n",
    "    file_path = _get_custom_cache_dir() / filename\n",
    "    download_again = 'y'\n",
    "    if os.path.isfile(file_path) or os.path.isdir(file_path):\n",
    "        download_again = input('File aldready exists. Should it be downloaded again and overwritten?(y/n)')\n",
    "    \n",
    "    if download_again.lower() in ['y', 'yes'] :\n",
    "\n",
    "        try:\n",
    "            if os.path.isfile(file_path) or os.path.isdir(file_path):\n",
    "                shutil.rmtree(file_path)  # Remove the directory and all its contents\n",
    "                print(f\"Successfully deleted the directory and its contents: {file_path}\")\n",
    "        except OSError as e:\n",
    "            print(f\"Error: {e.strerror}\")\n",
    "\n",
    "        response = requests.get(url, stream=True, verify=False)\n",
    "        print(response)\n",
    "        with open(file_path, \"wb\") as file:\n",
    "            for chunk in response.iter_content(chunk_size=8192):\n",
    "                if chunk:\n",
    "                    file.write(chunk)\n",
    "        print(f\"Downloaded file to {file_path}\")\n",
    "        # now that it is downloaded, we might want to decompress the file\n",
    "        if tarfile.is_tarfile(file_path):\n",
    "            tar = tarfile.open(file_path)\n",
    "            os.remove(file_path)\n",
    "            tar.extractall(path = file_path)\n",
    "            tar.close()\n",
    "        elif zipfile.is_zipfile(file_path): # change to endswith, which doesnt require us loading a library\n",
    "            try:\n",
    "                with zipfile.ZipFile(file_path, 'r') as zip_ref:\n",
    "                    print(file_path)\n",
    "                    os.remove(file_path)\n",
    "                    os.mkdir(file_path)\n",
    "                    zip_ref.extractall(file_path)\n",
    "            except: print('Decompression failed.')\n",
    "    else: print('File exists: Downloading cancelled.')"
   ]
  },
  {
   "cell_type": "code",
   "execution_count": 3,
   "metadata": {},
   "outputs": [
    {
     "name": "stdout",
     "output_type": "stream",
     "text": [
      "<Response [200]>\n",
      "Downloaded file to /home/arjun/.cache/skmini/iris\n",
      "/home/arjun/.cache/skmini/iris\n"
     ]
    }
   ],
   "source": [
    "download_to_cache(\"https://archive.ics.uci.edu/static/public/53/iris.zip\", 'iris')"
   ]
  },
  {
   "cell_type": "markdown",
   "metadata": {},
   "source": [
    "some issue between upper and lower download links, but the last one works"
   ]
  },
  {
   "cell_type": "code",
   "execution_count": 2,
   "metadata": {},
   "outputs": [
    {
     "name": "stdout",
     "output_type": "stream",
     "text": [
      "<Response [200]>\n",
      "Downloaded file to /home/arjun/.cache/skmini/titanic.csv\n"
     ]
    }
   ],
   "source": [
    "\n",
    "download_to_cache(\"https://github.com/datasciencedojo/datasets/blob/master/titanic.csv\", 'titanic.csv')"
   ]
  },
  {
   "cell_type": "code",
   "execution_count": null,
   "metadata": {},
   "outputs": [],
   "source": [
    "import tarfile\n",
    "tar = tarfile.open(\"/home/arjun/.cache/skmini/test.tar\", )\n",
    "tar.extractall(path = \"/home/arjun/.cache/skmini/test\")\n",
    "tar.close()\n"
   ]
  }
 ],
 "metadata": {
  "kernelspec": {
   "display_name": "AI_ENV",
   "language": "python",
   "name": "python3"
  },
  "language_info": {
   "codemirror_mode": {
    "name": "ipython",
    "version": 3
   },
   "file_extension": ".py",
   "mimetype": "text/x-python",
   "name": "python",
   "nbconvert_exporter": "python",
   "pygments_lexer": "ipython3",
   "version": "3.10.12"
  }
 },
 "nbformat": 4,
 "nbformat_minor": 2
}
