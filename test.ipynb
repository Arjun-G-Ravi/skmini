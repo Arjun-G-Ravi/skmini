{
 "cells": [
  {
   "cell_type": "code",
   "execution_count": null,
   "metadata": {},
   "outputs": [],
   "source": [
    "import os\n",
    "from pathlib import Path\n",
    "import requests\n",
    "import zipfile\n",
    "import tarfile\n",
    "import shutil\n",
    "from warnings import filterwarnings\n",
    "filterwarnings('ignore')\n",
    "def download_to_cache(url, filename, force_download=False):\n",
    "    def _get_custom_cache_dir():\n",
    "        custom_cache_dir = Path.home() / \".cache\"/ \"skmini\"/ \"datasets\"\n",
    "        os.makedirs(custom_cache_dir, exist_ok=True)\n",
    "        return custom_cache_dir\n",
    "\n",
    "    file_path = _get_custom_cache_dir() / filename\n",
    "    if os.path.isfile(file_path) or os.path.isdir(file_path):\n",
    "        if not force_download:\n",
    "            print('File Aldready exists. Use force_download=True to force download.')\n",
    "    else:\n",
    "        force_download=True\n",
    "\n",
    "    if force_download:\n",
    "        try:\n",
    "            if os.path.isfile(file_path) or os.path.isdir(file_path):\n",
    "                shutil.rmtree(file_path)  # Remove the directory and all its contents\n",
    "                print(f\"Successfully deleted the directory and its contents: {file_path}\")\n",
    "        except OSError as e:\n",
    "            print(f\"Error: {e.strerror}\")\n",
    "\n",
    "        response = requests.get(url, stream=True, verify=False)\n",
    "        print(response)\n",
    "        with open(file_path, \"wb\") as file:\n",
    "            for chunk in response.iter_content(chunk_size=8192):\n",
    "                if chunk:\n",
    "                    file.write(chunk)\n",
    "        print(f\"Downloaded file to {file_path}\")\n",
    "        # now that it is downloaded, we might want to decompress the file\n",
    "        if tarfile.is_tarfile(file_path):\n",
    "            try:\n",
    "                tar = tarfile.open(file_path)\n",
    "                os.remove(file_path)\n",
    "                tar.extractall(path = file_path)\n",
    "                tar.close()\n",
    "            except:\n",
    "                print('Decompression Failed.')\n",
    "        elif zipfile.is_zipfile(file_path): # change to endswith, which doesnt require us loading a library\n",
    "            try:\n",
    "                with zipfile.ZipFile(file_path, 'r') as zip_ref:\n",
    "                    print(file_path)\n",
    "                    os.remove(file_path)\n",
    "                    os.mkdir(file_path)\n",
    "                    zip_ref.extractall(file_path)\n",
    "            except: print('Decompression Failed.')\n"
   ]
  },
  {
   "cell_type": "code",
   "execution_count": null,
   "metadata": {},
   "outputs": [],
   "source": [
    "from sklearn import datasets\n",
    "x = datasets.load_digits()\n",
    "# print(x.shape)\n",
    "x\n",
    "# x.reshape((-1,28,28))"
   ]
  },
  {
   "cell_type": "code",
   "execution_count": null,
   "metadata": {},
   "outputs": [],
   "source": [
    "import matplotlib.pyplot as plt\n",
    "plt.imshow(x.images[10])"
   ]
  },
  {
   "cell_type": "code",
   "execution_count": null,
   "metadata": {},
   "outputs": [],
   "source": [
    "dir(datasets)"
   ]
  },
  {
   "cell_type": "code",
   "execution_count": null,
   "metadata": {},
   "outputs": [],
   "source": [
    "x = [0,0,5,13,9,1,0,0,0,0,13,15,10,15,5,0,0,3,15,2,0,11,8,0,0,4,12,0,0,8,8,0,0,5,8,0,0,9,8,0,0,4,11,0,1,12,7,0,0,2,14,5,10,12,0,0,0,0,6,13,10,0,0,0,0]\n",
    "len(x)"
   ]
  },
  {
   "cell_type": "code",
   "execution_count": 1,
   "metadata": {},
   "outputs": [
    {
     "name": "stdout",
     "output_type": "stream",
     "text": [
      "Downloading dataset...\n",
      "[########################################] 100.00%\n",
      "Downloaded file to /home/arjun/.cache/skmini/datasets/imdb\n"
     ]
    },
    {
     "ename": "TypeError",
     "evalue": "can only concatenate str (not \"NoneType\") to str",
     "output_type": "error",
     "traceback": [
      "\u001b[0;31m---------------------------------------------------------------------------\u001b[0m",
      "\u001b[0;31mTypeError\u001b[0m                                 Traceback (most recent call last)",
      "Cell \u001b[0;32mIn[1], line 2\u001b[0m\n\u001b[1;32m      1\u001b[0m \u001b[38;5;28;01mfrom\u001b[39;00m \u001b[38;5;21;01mskmini\u001b[39;00m\u001b[38;5;21;01m.\u001b[39;00m\u001b[38;5;21;01mdatasets\u001b[39;00m \u001b[38;5;28;01mimport\u001b[39;00m load_cifar10, load_iris, load_digits, load_diabetes, load_squad, load_imdb\n\u001b[0;32m----> 2\u001b[0m data \u001b[38;5;241m=\u001b[39m \u001b[43mload_imdb\u001b[49m\u001b[43m(\u001b[49m\u001b[43mforce_download\u001b[49m\u001b[38;5;241;43m=\u001b[39;49m\u001b[38;5;28;43;01mTrue\u001b[39;49;00m\u001b[43m)\u001b[49m\n",
      "File \u001b[0;32m~/Desktop/GitHub/skmini/skmini/datasets/popular_datasets.py:128\u001b[0m, in \u001b[0;36mload_imdb\u001b[0;34m(force_download)\u001b[0m\n\u001b[1;32m    127\u001b[0m \u001b[38;5;28;01mdef\u001b[39;00m \u001b[38;5;21mload_imdb\u001b[39m(force_download\u001b[38;5;241m=\u001b[39m\u001b[38;5;28;01mFalse\u001b[39;00m):\n\u001b[0;32m--> 128\u001b[0m     path \u001b[38;5;241m=\u001b[39m \u001b[43mdownload_to_cache\u001b[49m\u001b[43m(\u001b[49m\u001b[38;5;124;43m'\u001b[39;49m\u001b[38;5;124;43mhttps://datasets.imdbws.com/title.ratings.tsv.gz\u001b[39;49m\u001b[38;5;124;43m'\u001b[39;49m\u001b[43m,\u001b[49m\u001b[43m \u001b[49m\u001b[38;5;124;43m'\u001b[39;49m\u001b[38;5;124;43mimdb\u001b[39;49m\u001b[38;5;124;43m'\u001b[39;49m\u001b[43m,\u001b[49m\u001b[43m \u001b[49m\u001b[43mforce_download\u001b[49m\u001b[38;5;241;43m=\u001b[39;49m\u001b[43mforce_download\u001b[49m\u001b[43m)\u001b[49m\n",
      "File \u001b[0;32m~/Desktop/GitHub/skmini/skmini/datasets/downloader.py:77\u001b[0m, in \u001b[0;36mdownload_to_cache\u001b[0;34m(url, filename, format, force_download)\u001b[0m\n\u001b[1;32m     73\u001b[0m     \u001b[38;5;28;01mexcept\u001b[39;00m: \u001b[38;5;28mprint\u001b[39m(\u001b[38;5;124m'\u001b[39m\u001b[38;5;124mDecompression Failed.\u001b[39m\u001b[38;5;124m'\u001b[39m)\n\u001b[1;32m     76\u001b[0m \u001b[38;5;28;01melif\u001b[39;00m is_gzip(file_path):\n\u001b[0;32m---> 77\u001b[0m     zip_path \u001b[38;5;241m=\u001b[39m  file_path\u001b[38;5;241m.\u001b[39mparent \u001b[38;5;241m/\u001b[39m (\u001b[38;5;124;43mf\u001b[39;49m\u001b[38;5;124;43m'\u001b[39;49m\u001b[38;5;132;43;01m{\u001b[39;49;00m\u001b[43mfilename\u001b[49m\u001b[38;5;132;43;01m}\u001b[39;49;00m\u001b[38;5;124;43m'\u001b[39;49m\u001b[43m \u001b[49m\u001b[38;5;241;43m+\u001b[39;49m\u001b[43m \u001b[49m\u001b[38;5;28;43mformat\u001b[39;49m)\n\u001b[1;32m     78\u001b[0m     \u001b[38;5;28;01mtry\u001b[39;00m:\n\u001b[1;32m     79\u001b[0m         \u001b[38;5;28;01mwith\u001b[39;00m gzip\u001b[38;5;241m.\u001b[39mopen(file_path, \u001b[38;5;124m'\u001b[39m\u001b[38;5;124mrb\u001b[39m\u001b[38;5;124m'\u001b[39m) \u001b[38;5;28;01mas\u001b[39;00m f_in:\n",
      "\u001b[0;31mTypeError\u001b[0m: can only concatenate str (not \"NoneType\") to str"
     ]
    }
   ],
   "source": [
    "from skmini.datasets import load_cifar10, load_iris, load_digits, load_diabetes, load_squad, load_imdb\n",
    "data = load_imdb(force_download=True)"
   ]
  }
 ],
 "metadata": {
  "kernelspec": {
   "display_name": "AI_ENV",
   "language": "python",
   "name": "python3"
  },
  "language_info": {
   "codemirror_mode": {
    "name": "ipython",
    "version": 3
   },
   "file_extension": ".py",
   "mimetype": "text/x-python",
   "name": "python",
   "nbconvert_exporter": "python",
   "pygments_lexer": "ipython3",
   "version": "3.10.12"
  }
 },
 "nbformat": 4,
 "nbformat_minor": 2
}
