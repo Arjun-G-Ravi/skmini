{
 "cells": [
  {
   "cell_type": "code",
   "execution_count": 7,
   "metadata": {},
   "outputs": [],
   "source": [
    "urls = {\n",
    "    \"train_images\": \"http://yann.lecun.com/exdb/mnist/train-images-idx3-ubyte.gz\",\n",
    "    # \"train_labels\": \"http://yann.lecun.com/exdb/mnist/train-labels-idx1-ubyte.gz\",\n",
    "    # \"test_images\": \"http://yann.lecun.com/exdb/mnist/t10k-images-idx3-ubyte.gz\",\n",
    "    # \"test_labels\": \"http://yann.lecun.com/exdb/mnist/t10k-labels-idx1-ubyte.gz\"\n",
    "}"
   ]
  },
  {
   "cell_type": "code",
   "execution_count": 22,
   "metadata": {},
   "outputs": [
    {
     "data": {
      "text/plain": [
       "PosixPath('/home/arjun/snap/code/174/.local/share/skmini')"
      ]
     },
     "execution_count": 22,
     "metadata": {},
     "output_type": "execute_result"
    }
   ],
   "source": [
    "from pathlib import Path\n",
    "import platformdirs\n",
    "import os\n",
    "def get_data_dir():\n",
    "    data_dir = Path(platformdirs.user_data_dir(\"skmini\"))\n",
    "    os.makedirs(data_dir, exist_ok=True)\n",
    "    return data_dir\n",
    "\n",
    "get_data_dir()"
   ]
  },
  {
   "cell_type": "code",
   "execution_count": 24,
   "metadata": {},
   "outputs": [
    {
     "name": "stderr",
     "output_type": "stream",
     "text": [
      "/home/arjun/Desktop/AI_ENV/lib/python3.10/site-packages/urllib3/connectionpool.py:1099: InsecureRequestWarning: Unverified HTTPS request is being made to host 'yann.lecun.com'. Adding certificate verification is strongly advised. See: https://urllib3.readthedocs.io/en/latest/advanced-usage.html#tls-warnings\n",
      "  warnings.warn(\n"
     ]
    },
    {
     "name": "stdout",
     "output_type": "stream",
     "text": [
      "Downloaded file to /home/arjun/snap/alacritty/common/.cache/skmini/train-images-idx3-ubyte.gz\n"
     ]
    }
   ],
   "source": [
    "from pathlib import Path\n",
    "import platformdirs\n",
    "import os\n",
    "import requests\n",
    "\n",
    "def get_cache_dir():\n",
    "    cache_dir = Path(platformdirs.user_cache_dir(\"skmini\"))\n",
    "    os.makedirs(cache_dir, exist_ok=True)\n",
    "    return cache_dir\n",
    "\n",
    "# Get the cache directory\n",
    "cache_directory = get_cache_dir()\n",
    "\n",
    "# URL to download\n",
    "url = \"http://yann.lecun.com/exdb/mnist/train-images-idx3-ubyte.gz\"\n",
    "file_path = cache_directory / \"train-images-idx3-ubyte.gz\"\n",
    "\n",
    "# Download the file\n",
    "response = requests.get(url, stream=True, verify=False)\n",
    "\n",
    "with open(file_path, \"wb\") as file:\n",
    "    for chunk in response.iter_content(chunk_size=8192):\n",
    "        if chunk:\n",
    "            file.write(chunk)\n",
    "\n",
    "print(f\"Downloaded file to {file_path}\")\n"
   ]
  },
  {
   "cell_type": "code",
   "execution_count": 23,
   "metadata": {},
   "outputs": [
    {
     "data": {
      "text/plain": [
       "PosixPath('/home/arjun/snap/alacritty/common/.cache/skmini')"
      ]
     },
     "execution_count": 23,
     "metadata": {},
     "output_type": "execute_result"
    }
   ],
   "source": [
    "from pathlib import Path\n",
    "import platformdirs\n",
    "import os\n",
    "\n",
    "def get_cache_dir():\n",
    "    cache_dir = Path(platformdirs.user_cache_dir(\"skmini\"))\n",
    "    os.makedirs(cache_dir, exist_ok=True)\n",
    "    return cache_dir\n",
    "\n",
    "get_cache_dir()\n"
   ]
  },
  {
   "cell_type": "code",
   "execution_count": 21,
   "metadata": {},
   "outputs": [
    {
     "name": "stderr",
     "output_type": "stream",
     "text": [
      "/home/arjun/Desktop/AI_ENV/lib/python3.10/site-packages/urllib3/connectionpool.py:1099: InsecureRequestWarning: Unverified HTTPS request is being made to host 'yann.lecun.com'. Adding certificate verification is strongly advised. See: https://urllib3.readthedocs.io/en/latest/advanced-usage.html#tls-warnings\n",
      "  warnings.warn(\n"
     ]
    },
    {
     "name": "stdout",
     "output_type": "stream",
     "text": [
      "Downloaded file to /home/arjun/snap/code/174/.local/share/skmini/cow\n"
     ]
    }
   ],
   "source": [
    "import requests\n",
    "\n",
    "url = \"http://yann.lecun.com/exdb/mnist/train-images-idx3-ubyte.gz\"\n",
    "download_dir = get_data_dir() / Path('cow')\n",
    "\n",
    "response = requests.get(url, stream=True, verify=False)\n",
    "\n",
    "with open(download_dir, \"wb\") as file:\n",
    "    for chunk in response.iter_content(chunk_size=8192):\n",
    "        if chunk:\n",
    "            file.write(chunk)\n",
    "\n",
    "print(f\"Downloaded file to {download_dir}\")\n"
   ]
  },
  {
   "cell_type": "code",
   "execution_count": 25,
   "metadata": {},
   "outputs": [
    {
     "name": "stdout",
     "output_type": "stream",
     "text": [
      "Downloaded file to /home/arjun/snap/alacritty/common/.cache/skmini/train-images-idx3-ubyte.gz\n"
     ]
    }
   ],
   "source": [
    "from pathlib import Path\n",
    "import platformdirs\n",
    "import os\n",
    "import requests\n",
    "import urllib3\n",
    "\n",
    "# Disable InsecureRequestWarnings (optional)\n",
    "urllib3.disable_warnings(urllib3.exceptions.InsecureRequestWarning)\n",
    "\n",
    "def get_cache_dir():\n",
    "    cache_dir = Path(platformdirs.user_cache_dir(\"skmini\"))\n",
    "    os.makedirs(cache_dir, exist_ok=True)\n",
    "    return cache_dir\n",
    "\n",
    "# Get the cache directory\n",
    "cache_directory = get_cache_dir()\n",
    "\n",
    "# URL to download\n",
    "url = \"http://yann.lecun.com/exdb/mnist/train-images-idx3-ubyte.gz\"\n",
    "file_path = cache_directory / \"train-images-idx3-ubyte.gz\"\n",
    "\n",
    "# Download the file\n",
    "response = requests.get(url, stream=True, verify=False)\n",
    "\n",
    "with open(file_path, \"wb\") as file:\n",
    "    for chunk in response.iter_content(chunk_size=8192):\n",
    "        if chunk:\n",
    "            file.write(chunk)\n",
    "\n",
    "print(f\"Downloaded file to {file_path}\")\n"
   ]
  },
  {
   "cell_type": "code",
   "execution_count": null,
   "metadata": {},
   "outputs": [
    {
     "name": "stdout",
     "output_type": "stream",
     "text": [
      "Downloaded file to /home/arjun/.cache/skmini/train-images-idx3-ubyte.gz\n"
     ]
    }
   ],
   "source": [
    "from pathlib import Path\n",
    "import os\n",
    "import requests\n",
    "\n",
    "def get_custom_cache_dir():\n",
    "    custom_cache_dir = Path.home() / \".cache\" / \"skmini\"\n",
    "    os.makedirs(custom_cache_dir, exist_ok=True)\n",
    "    return custom_cache_dir\n",
    "\n",
    "# Get the custom cache directory\n",
    "cache_directory = get_custom_cache_dir()\n",
    "\n",
    "# URL to download\n",
    "url = \"http://yann.lecun.com/exdb/mnist/train-images-idx3-ubyte.gz\"\n",
    "file_path = cache_directory / \"train-images-idx3-ubyte.gz\"\n",
    "\n",
    "# Download the file\n",
    "response = requests.get(url, stream=True, verify=False)\n",
    "\n",
    "with open(file_path, \"wb\") as file:\n",
    "    for chunk in response.iter_content(chunk_size=8192):\n",
    "        if chunk:\n",
    "            file.write(chunk)\n",
    "\n",
    "print(f\"Downloaded file to {file_path}\")\n"
   ]
  }
 ],
 "metadata": {
  "kernelspec": {
   "display_name": "AI_ENV",
   "language": "python",
   "name": "python3"
  },
  "language_info": {
   "codemirror_mode": {
    "name": "ipython",
    "version": 3
   },
   "file_extension": ".py",
   "mimetype": "text/x-python",
   "name": "python",
   "nbconvert_exporter": "python",
   "pygments_lexer": "ipython3",
   "version": "3.10.12"
  }
 },
 "nbformat": 4,
 "nbformat_minor": 2
}
